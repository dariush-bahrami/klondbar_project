{
 "cells": [
  {
   "cell_type": "markdown",
   "metadata": {},
   "source": [
    "# mega_bar Function Usage"
   ]
  },
  {
   "cell_type": "markdown",
   "metadata": {},
   "source": [
    "*import __mega_bar__ as follow*"
   ]
  },
  {
   "cell_type": "code",
   "execution_count": 1,
   "metadata": {},
   "outputs": [],
   "source": [
    "from klondbar.megabar import mega_bar"
   ]
  },
  {
   "cell_type": "code",
   "execution_count": 2,
   "metadata": {},
   "outputs": [],
   "source": [
    "import time # for creating example calculations only"
   ]
  },
  {
   "cell_type": "markdown",
   "metadata": {},
   "source": [
    "## Fast Usage"
   ]
  },
  {
   "cell_type": "markdown",
   "metadata": {},
   "source": [
    "*Just wrap for loop sequence with __mega_bar()__*"
   ]
  },
  {
   "cell_type": "code",
   "execution_count": 3,
   "metadata": {},
   "outputs": [
    {
     "name": "stdout",
     "output_type": "stream",
     "text": [
      "▄▄▄▄▄▄▄▄▄▄▄▄▄▄▄▄▄▄▄▄▄▄▄▄▄▄▄▄▄▄▄▄▄▄▄▄▄▄▄▄\n",
      "▌    \\(^-^)/                           ▐\n",
      "▌██████████████████████████████████████▐\n",
      "▌                   Elapsed time: 00:01▐\n",
      "▀▀▀▀▀▀▀▀▀▀▀▀▀▀▀▀▀▀▀▀▀▀▀▀▀▀▀▀▀▀▀▀▀▀▀▀▀▀▀▀\n"
     ]
    }
   ],
   "source": [
    "for i in mega_bar(range(10)):\n",
    "    # place your calculations here\n",
    "    time.sleep(0.1)  # just an exapmle of calculations"
   ]
  },
  {
   "cell_type": "markdown",
   "metadata": {},
   "source": [
    "## Adding Optional  Customizations"
   ]
  },
  {
   "cell_type": "code",
   "execution_count": 4,
   "metadata": {},
   "outputs": [
    {
     "name": "stdout",
     "output_type": "stream",
     "text": [
      "\u001b[32m▄▄▄▄▄▄▄▄▄▄▄▄▄▄▄▄▄▄▄▄▄▄▄▄▄▄▄▄▄▄▄▄▄▄▄▄▄▄▄▄▄▄▄▄▄▄▄▄▄▄▄▄▄▄▄▄▄▄▄▄▄▄▄▄▄▄▄▄▄▄▄▄▄▄▄▄▄▄▄▄\n",
      "▌         \\,,/(^_^)\\,,/                           Computation                  ▐\n",
      "▌██████████████████████████████████████████████████████████████████████████████▐\n",
      "▌                                                           Elapsed time: 00:01▐\n",
      "▀▀▀▀▀▀▀▀▀▀▀▀▀▀▀▀▀▀▀▀▀▀▀▀▀▀▀▀▀▀▀▀▀▀▀▀▀▀▀▀▀▀▀▀▀▀▀▀▀▀▀▀▀▀▀▀▀▀▀▀▀▀▀▀▀▀▀▀▀▀▀▀▀▀▀▀▀▀▀▀\n",
      "\u001b[0m"
     ]
    }
   ],
   "source": [
    "for i in mega_bar(range(10),title='Computation', bar_width=80, color='green'):\n",
    "    # place your calculations here\n",
    "    time.sleep(0.1)  # just an exapmle of calculations"
   ]
  },
  {
   "cell_type": "markdown",
   "metadata": {},
   "source": [
    "# MegaBar Class Usage"
   ]
  },
  {
   "cell_type": "markdown",
   "metadata": {},
   "source": [
    "*import __MegaBar__ class as follow*"
   ]
  },
  {
   "cell_type": "code",
   "execution_count": 5,
   "metadata": {},
   "outputs": [],
   "source": [
    "from klondbar.megabar import MegaBar\n"
   ]
  },
  {
   "cell_type": "markdown",
   "metadata": {},
   "source": [
    "## Creating Simple MegaBar Instance"
   ]
  },
  {
   "cell_type": "code",
   "execution_count": 6,
   "metadata": {
    "scrolled": true
   },
   "outputs": [
    {
     "name": "stdout",
     "output_type": "stream",
     "text": [
      "Simple MegaBar instance test:\n",
      "▄▄▄▄▄▄▄▄▄▄▄▄▄▄▄▄▄▄▄▄▄▄▄▄▄▄▄▄▄▄▄▄▄▄▄▄▄▄▄▄▄▄▄▄▄▄▄▄▄▄▄▄▄▄▄▄▄▄▄▄▄▄▄▄▄▄▄▄▄▄▄▄▄▄▄▄▄▄▄▄\n",
      "▌            d[-_-]b                              task title                   ▐\n",
      "▌██████████████████████████████████████████████████████████████████████████████▐\n",
      "▌                                                           Elapsed time: 00:01▐\n",
      "▀▀▀▀▀▀▀▀▀▀▀▀▀▀▀▀▀▀▀▀▀▀▀▀▀▀▀▀▀▀▀▀▀▀▀▀▀▀▀▀▀▀▀▀▀▀▀▀▀▀▀▀▀▀▀▀▀▀▀▀▀▀▀▀▀▀▀▀▀▀▀▀▀▀▀▀▀▀▀▀\n"
     ]
    }
   ],
   "source": [
    "print('Simple MegaBar instance test:')\n",
    "\n",
    "# First create an iterable object for using in \"for loop\"\n",
    "iterable_object = range(10)\n",
    "\n",
    "test_bar = MegaBar(iterable_object, task_name='task title', bar_width=80)\n",
    "\n",
    "for i in test_bar.run():\n",
    "    # place your calculations here\n",
    "    time.sleep(0.1)  # just an exapmle of calculations"
   ]
  },
  {
   "cell_type": "markdown",
   "metadata": {},
   "source": [
    "# Creating Colored MegaBar Instance"
   ]
  },
  {
   "cell_type": "markdown",
   "metadata": {},
   "source": [
    "*Some consoles such as IDLE may have problem with colored version of MegaBar*"
   ]
  },
  {
   "cell_type": "code",
   "execution_count": 7,
   "metadata": {},
   "outputs": [
    {
     "name": "stdout",
     "output_type": "stream",
     "text": [
      "Colored MegaBar instance test:\n",
      "\u001b[32m\u001b[32m▄▄▄▄▄▄▄▄▄▄▄▄▄▄▄▄▄▄▄▄▄▄▄▄▄▄▄▄▄▄▄▄▄▄▄▄▄▄▄▄▄▄▄▄▄▄▄▄▄▄▄▄▄▄▄▄▄▄▄▄\n",
      "▌     \\m/_(>_<)_\\m/                 task title             ▐\n",
      "▌██████████████████████████████████████████████████████████▐\n",
      "▌                                       Elapsed time: 00:01▐\n",
      "▀▀▀▀▀▀▀▀▀▀▀▀▀▀▀▀▀▀▀▀▀▀▀▀▀▀▀▀▀▀▀▀▀▀▀▀▀▀▀▀▀▀▀▀▀▀▀▀▀▀▀▀▀▀▀▀▀▀▀▀\n",
      "\u001b[0m"
     ]
    }
   ],
   "source": [
    "print('Colored MegaBar instance test:')\n",
    "colored_test_bar = MegaBar(iterable_object,\n",
    "                           task_name='task title',\n",
    "                           bar_width=60,\n",
    "                           colored_bar=True)\n",
    "colored_test_bar.color = 'green'\n",
    "\n",
    "for i in colored_test_bar.run():\n",
    "    # place your calculations here\n",
    "    time.sleep(0.1)  # just an exapmle of calculations"
   ]
  },
  {
   "cell_type": "markdown",
   "metadata": {},
   "source": [
    "# micro_bar Function Usage"
   ]
  },
  {
   "cell_type": "markdown",
   "metadata": {},
   "source": [
    "*import __mega_bar__ as follow*"
   ]
  },
  {
   "cell_type": "code",
   "execution_count": 8,
   "metadata": {},
   "outputs": [],
   "source": [
    "from klondbar.microbar import micro_bar"
   ]
  },
  {
   "cell_type": "markdown",
   "metadata": {},
   "source": [
    "## Fast Usage"
   ]
  },
  {
   "cell_type": "markdown",
   "metadata": {},
   "source": [
    "*Just wrap for loop sequence with __micro_bar()__*"
   ]
  },
  {
   "cell_type": "code",
   "execution_count": 9,
   "metadata": {},
   "outputs": [
    {
     "name": "stdout",
     "output_type": "stream",
     "text": [
      "[########################################] 10/10 Elapsed time: 00:01\n"
     ]
    }
   ],
   "source": [
    "for i in micro_bar(range(10)):\n",
    "    # place your calculations here\n",
    "    time.sleep(0.1)  # just an exapmle of calculations"
   ]
  },
  {
   "cell_type": "markdown",
   "metadata": {},
   "source": [
    "## Adding Optional  Customizations"
   ]
  },
  {
   "cell_type": "code",
   "execution_count": 10,
   "metadata": {},
   "outputs": [
    {
     "name": "stdout",
     "output_type": "stream",
     "text": [
      "Calculating [####################] 10/10 Elapsed time: 00:01\n"
     ]
    }
   ],
   "source": [
    "for i in micro_bar(range(10), title='Calculating ', bar_length=20):\n",
    "    # place your calculations here\n",
    "    time.sleep(0.1)  # just an exapmle of calculations"
   ]
  }
 ],
 "metadata": {
  "kernelspec": {
   "display_name": "Python 3",
   "language": "python",
   "name": "python3"
  },
  "language_info": {
   "codemirror_mode": {
    "name": "ipython",
    "version": 3
   },
   "file_extension": ".py",
   "mimetype": "text/x-python",
   "name": "python",
   "nbconvert_exporter": "python",
   "pygments_lexer": "ipython3",
   "version": "3.7.6"
  }
 },
 "nbformat": 4,
 "nbformat_minor": 4
}
